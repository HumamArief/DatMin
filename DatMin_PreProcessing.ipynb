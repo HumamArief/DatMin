{
 "cells": [
  {
   "cell_type": "code",
   "execution_count": 205,
   "id": "7be99823-4de5-4464-92e3-fc67d9ed438f",
   "metadata": {},
   "outputs": [],
   "source": [
    "import pandas as pd\n",
    "df = pd.read_csv('F:/Folder Arief/[Kuliah]/Semester 7/Data Mining/PRE PROCESSING/movie_sample_dataset.csv')"
   ]
  },
  {
   "cell_type": "code",
   "execution_count": 206,
   "id": "d084f786-5ce6-402b-9648-c68c29a3d4c7",
   "metadata": {},
   "outputs": [],
   "source": [
    "#Tampilkan data awal dari dataset"
   ]
  },
  {
   "cell_type": "code",
   "execution_count": 207,
   "id": "c41e3198-3f3b-4f4c-ae24-87a4b57ea94d",
   "metadata": {},
   "outputs": [
    {
     "data": {
      "text/html": [
       "<div>\n",
       "<style scoped>\n",
       "    .dataframe tbody tr th:only-of-type {\n",
       "        vertical-align: middle;\n",
       "    }\n",
       "\n",
       "    .dataframe tbody tr th {\n",
       "        vertical-align: top;\n",
       "    }\n",
       "\n",
       "    .dataframe thead th {\n",
       "        text-align: right;\n",
       "    }\n",
       "</style>\n",
       "<table border=\"1\" class=\"dataframe\">\n",
       "  <thead>\n",
       "    <tr style=\"text-align: right;\">\n",
       "      <th></th>\n",
       "      <th>color</th>\n",
       "      <th>director_name</th>\n",
       "      <th>duration</th>\n",
       "      <th>gross</th>\n",
       "      <th>genres</th>\n",
       "      <th>movie_title</th>\n",
       "      <th>title_year</th>\n",
       "      <th>language</th>\n",
       "      <th>country</th>\n",
       "      <th>budget</th>\n",
       "      <th>imdb_score</th>\n",
       "      <th>actors</th>\n",
       "      <th>movie_facebook_likes</th>\n",
       "    </tr>\n",
       "  </thead>\n",
       "  <tbody>\n",
       "    <tr>\n",
       "      <th>0</th>\n",
       "      <td>Color</td>\n",
       "      <td>Martin Scorsese</td>\n",
       "      <td>240</td>\n",
       "      <td>116866727.0</td>\n",
       "      <td>Biography|Comedy|Crime|Drama</td>\n",
       "      <td>The Wolf of Wall Street</td>\n",
       "      <td>2013</td>\n",
       "      <td>English</td>\n",
       "      <td>USA</td>\n",
       "      <td>100000000.0</td>\n",
       "      <td>8.2</td>\n",
       "      <td>Leonardo DiCaprio,Matthew McConaughey,Jon Favreau</td>\n",
       "      <td>138000</td>\n",
       "    </tr>\n",
       "    <tr>\n",
       "      <th>1</th>\n",
       "      <td>Color</td>\n",
       "      <td>Shane Black</td>\n",
       "      <td>195</td>\n",
       "      <td>408992272.0</td>\n",
       "      <td>Action|Adventure|Sci-Fi</td>\n",
       "      <td>Iron Man 3</td>\n",
       "      <td>2013</td>\n",
       "      <td>English</td>\n",
       "      <td>USA</td>\n",
       "      <td>200000000.0</td>\n",
       "      <td>7.2</td>\n",
       "      <td>Robert Downey Jr.,Jon Favreau,Don Cheadle</td>\n",
       "      <td>95000</td>\n",
       "    </tr>\n",
       "    <tr>\n",
       "      <th>2</th>\n",
       "      <td>color</td>\n",
       "      <td>Quentin Tarantino</td>\n",
       "      <td>187</td>\n",
       "      <td>54116191.0</td>\n",
       "      <td>Crime|Drama|Mystery|Thriller|Western</td>\n",
       "      <td>The Hateful Eight</td>\n",
       "      <td>2015</td>\n",
       "      <td>English</td>\n",
       "      <td>USA</td>\n",
       "      <td>44000000.0</td>\n",
       "      <td>7.9</td>\n",
       "      <td>Craig Stark,Jennifer Jason Leigh,Zoë Bell</td>\n",
       "      <td>114000</td>\n",
       "    </tr>\n",
       "    <tr>\n",
       "      <th>3</th>\n",
       "      <td>Color</td>\n",
       "      <td>Kenneth Lonergan</td>\n",
       "      <td>186</td>\n",
       "      <td>46495.0</td>\n",
       "      <td>Drama</td>\n",
       "      <td>Margaret</td>\n",
       "      <td>2011</td>\n",
       "      <td>English</td>\n",
       "      <td>usa</td>\n",
       "      <td>14000000.0</td>\n",
       "      <td>6.5</td>\n",
       "      <td>Matt Damon,Kieran Culkin,John Gallagher Jr.</td>\n",
       "      <td>0</td>\n",
       "    </tr>\n",
       "    <tr>\n",
       "      <th>4</th>\n",
       "      <td>Color</td>\n",
       "      <td>Peter Jackson</td>\n",
       "      <td>186</td>\n",
       "      <td>258355354.0</td>\n",
       "      <td>Adventure|Fantasy</td>\n",
       "      <td>The Hobbit: The Desolation of Smaug</td>\n",
       "      <td>2013</td>\n",
       "      <td>English</td>\n",
       "      <td>USA</td>\n",
       "      <td>225000000.0</td>\n",
       "      <td>7.9</td>\n",
       "      <td>Aidan Turner,Adam Brown,James Nesbitt</td>\n",
       "      <td>83000</td>\n",
       "    </tr>\n",
       "  </tbody>\n",
       "</table>\n",
       "</div>"
      ],
      "text/plain": [
       "    color      director_name  duration        gross  \\\n",
       "0   Color    Martin Scorsese       240  116866727.0   \n",
       "1   Color        Shane Black       195  408992272.0   \n",
       "2  color   Quentin Tarantino       187   54116191.0   \n",
       "3   Color   Kenneth Lonergan       186      46495.0   \n",
       "4   Color      Peter Jackson       186  258355354.0   \n",
       "\n",
       "                                 genres                          movie_title  \\\n",
       "0          Biography|Comedy|Crime|Drama              The Wolf of Wall Street   \n",
       "1               Action|Adventure|Sci-Fi                           Iron Man 3   \n",
       "2  Crime|Drama|Mystery|Thriller|Western                    The Hateful Eight   \n",
       "3                                 Drama                             Margaret   \n",
       "4                     Adventure|Fantasy  The Hobbit: The Desolation of Smaug   \n",
       "\n",
       "   title_year language country       budget  imdb_score  \\\n",
       "0        2013  English     USA  100000000.0         8.2   \n",
       "1        2013  English     USA  200000000.0         7.2   \n",
       "2        2015  English     USA   44000000.0         7.9   \n",
       "3        2011  English     usa   14000000.0         6.5   \n",
       "4        2013  English     USA  225000000.0         7.9   \n",
       "\n",
       "                                              actors  movie_facebook_likes  \n",
       "0  Leonardo DiCaprio,Matthew McConaughey,Jon Favreau                138000  \n",
       "1          Robert Downey Jr.,Jon Favreau,Don Cheadle                 95000  \n",
       "2          Craig Stark,Jennifer Jason Leigh,Zoë Bell                114000  \n",
       "3        Matt Damon,Kieran Culkin,John Gallagher Jr.                     0  \n",
       "4              Aidan Turner,Adam Brown,James Nesbitt                 83000  "
      ]
     },
     "execution_count": 207,
     "metadata": {},
     "output_type": "execute_result"
    }
   ],
   "source": [
    "df.head()"
   ]
  },
  {
   "cell_type": "code",
   "execution_count": 208,
   "id": "2ba33089-410f-4fa7-9d65-10736741d88b",
   "metadata": {},
   "outputs": [],
   "source": [
    "#Perlu kita cek terlebih dahulu ukuran dari dataset"
   ]
  },
  {
   "cell_type": "code",
   "execution_count": 209,
   "id": "52cc477d-a5be-44ef-b15e-b9634ff91669",
   "metadata": {},
   "outputs": [
    {
     "data": {
      "text/plain": [
       "(99, 13)"
      ]
     },
     "execution_count": 209,
     "metadata": {},
     "output_type": "execute_result"
    }
   ],
   "source": [
    "df.shape"
   ]
  },
  {
   "cell_type": "code",
   "execution_count": 210,
   "id": "dc3bcb1c-6de3-4181-909c-19c216ed1535",
   "metadata": {},
   "outputs": [],
   "source": [
    "#Cek tipe data"
   ]
  },
  {
   "cell_type": "code",
   "execution_count": 211,
   "id": "6d69a5ff-48ea-4b5c-9e66-5c4f998689a7",
   "metadata": {},
   "outputs": [
    {
     "data": {
      "text/plain": [
       "color                    object\n",
       "director_name            object\n",
       "duration                  int64\n",
       "gross                   float64\n",
       "genres                   object\n",
       "movie_title              object\n",
       "title_year                int64\n",
       "language                 object\n",
       "country                  object\n",
       "budget                  float64\n",
       "imdb_score              float64\n",
       "actors                   object\n",
       "movie_facebook_likes      int64\n",
       "dtype: object"
      ]
     },
     "execution_count": 211,
     "metadata": {},
     "output_type": "execute_result"
    }
   ],
   "source": [
    "df.dtypes"
   ]
  },
  {
   "cell_type": "code",
   "execution_count": 212,
   "id": "c4d96edf-0ed7-4fb7-a806-472262ee381d",
   "metadata": {},
   "outputs": [],
   "source": [
    "#Ubah missing value menjadi NaN"
   ]
  },
  {
   "cell_type": "code",
   "execution_count": 213,
   "id": "28bf3be6-165f-4234-b2f6-526e6d731f47",
   "metadata": {},
   "outputs": [
    {
     "name": "stdout",
     "output_type": "stream",
     "text": [
      "Total missing value:\n",
      "color                   11\n",
      "director_name           13\n",
      "duration                 0\n",
      "gross                    8\n",
      "genres                   1\n",
      "movie_title              0\n",
      "title_year               0\n",
      "language                 0\n",
      "country                  0\n",
      "budget                   4\n",
      "imdb_score               0\n",
      "actors                   0\n",
      "movie_facebook_likes     0\n",
      "dtype: int64\n",
      "\n",
      "Persentase missing value:\n",
      "color                   11.111111\n",
      "director_name           13.131313\n",
      "duration                 0.000000\n",
      "gross                    8.080808\n",
      "genres                   1.010101\n",
      "movie_title              0.000000\n",
      "title_year               0.000000\n",
      "language                 0.000000\n",
      "country                  0.000000\n",
      "budget                   4.040404\n",
      "imdb_score               0.000000\n",
      "actors                   0.000000\n",
      "movie_facebook_likes     0.000000\n",
      "dtype: float64\n"
     ]
    }
   ],
   "source": [
    "import numpy as np\n",
    "df.replace(['?', 'N/A', 'n/a', 'Nan', 'nan', 'NaN', 'null', 'NULL','Null'],np.nan,inplace = True)\n",
    "missing_percentage = df.isnull().sum() / len(df) * 100\n",
    "\n",
    "print (\"Total missing value:\")\n",
    "print (df.isnull().sum())\n",
    "print (\"\\nPersentase missing value:\")\n",
    "print (missing_percentage)"
   ]
  },
  {
   "cell_type": "code",
   "execution_count": 214,
   "id": "be8e0d43-7564-4dbd-81e8-1100d931829c",
   "metadata": {},
   "outputs": [],
   "source": [
    "#Terdapat missing value pada color, director_name, gross, genres, dan budget\n",
    "#Baris yang memuat nilai missing value pada gross dan budget akan dihapus karena kolom tersebut merupakan data yang penting dan berpengaruh"
   ]
  },
  {
   "cell_type": "code",
   "execution_count": 215,
   "id": "7d86adac-e490-4186-8646-c6b2d04d8d0b",
   "metadata": {},
   "outputs": [],
   "source": [
    "df.dropna(subset=[\"gross\"], axis=0, inplace=True)\n",
    "df.dropna(subset=[\"budget\"], axis=0, inplace=True)\n",
    "df.reset_index(drop=True, inplace=True) #Reset index"
   ]
  },
  {
   "cell_type": "code",
   "execution_count": 216,
   "id": "76787606-6b3b-4306-9024-fb1d1e2e3cf1",
   "metadata": {},
   "outputs": [
    {
     "name": "stdout",
     "output_type": "stream",
     "text": [
      "color                   10\n",
      "director_name           12\n",
      "duration                 0\n",
      "gross                    0\n",
      "genres                   1\n",
      "movie_title              0\n",
      "title_year               0\n",
      "language                 0\n",
      "country                  0\n",
      "budget                   0\n",
      "imdb_score               0\n",
      "actors                   0\n",
      "movie_facebook_likes     0\n",
      "dtype: int64\n"
     ]
    }
   ],
   "source": [
    "print(df.isnull().sum())"
   ]
  },
  {
   "cell_type": "code",
   "execution_count": 217,
   "id": "84680356-7ff6-4448-bb54-34646b45be19",
   "metadata": {},
   "outputs": [],
   "source": [
    "#Melihat ukuran dataset setelah drop baris"
   ]
  },
  {
   "cell_type": "code",
   "execution_count": 218,
   "id": "a2ecb4e3-0163-4dbd-9cee-886e0c281df9",
   "metadata": {},
   "outputs": [
    {
     "data": {
      "text/plain": [
       "(89, 13)"
      ]
     },
     "execution_count": 218,
     "metadata": {},
     "output_type": "execute_result"
    }
   ],
   "source": [
    "df.shape "
   ]
  },
  {
   "cell_type": "code",
   "execution_count": 219,
   "id": "43288611-3aa0-466f-b861-c67261f49bd0",
   "metadata": {},
   "outputs": [],
   "source": [
    "#Sudah tidak ada missing value pada kolom gross dan budget\n",
    "#Selanjutnya mengisi missing value pada color, direktor, dan genres"
   ]
  },
  {
   "cell_type": "code",
   "execution_count": 220,
   "id": "72fa67c5-aa4d-4a9f-a401-257ce2eb3696",
   "metadata": {},
   "outputs": [
    {
     "name": "stdout",
     "output_type": "stream",
     "text": [
      "Jenis grafis movie paling umum:  Color\n"
     ]
    }
   ],
   "source": [
    "print(\"Jenis grafis movie paling umum: \",df['color'].value_counts().idxmax()) #Melihat data terbanyak"
   ]
  },
  {
   "cell_type": "code",
   "execution_count": 221,
   "id": "fa5ec911-e21d-46ba-bbbc-c79dff3be75c",
   "metadata": {},
   "outputs": [
    {
     "name": "stdout",
     "output_type": "stream",
     "text": [
      "color\n",
      "color               87\n",
      "color                1\n",
      " Black and White     1\n",
      "Name: count, dtype: int64\n"
     ]
    }
   ],
   "source": [
    "df[\"color\"] = df[\"color\"].replace(np.nan, \"color\")\n",
    "df[\"color\"] = df[\"color\"].replace(\"Color\", \"color\")\n",
    "\n",
    "print(df[\"color\"].value_counts())"
   ]
  },
  {
   "cell_type": "code",
   "execution_count": 222,
   "id": "f011e450-7203-4232-ae47-5e5bf7a4556d",
   "metadata": {},
   "outputs": [],
   "source": [
    "#Masih terdapat data yang tidak konsisten"
   ]
  },
  {
   "cell_type": "code",
   "execution_count": 223,
   "id": "646aea02-29fa-4706-a90e-8c0ddbe6a2e8",
   "metadata": {},
   "outputs": [
    {
     "data": {
      "text/html": [
       "<div>\n",
       "<style scoped>\n",
       "    .dataframe tbody tr th:only-of-type {\n",
       "        vertical-align: middle;\n",
       "    }\n",
       "\n",
       "    .dataframe tbody tr th {\n",
       "        vertical-align: top;\n",
       "    }\n",
       "\n",
       "    .dataframe thead th {\n",
       "        text-align: right;\n",
       "    }\n",
       "</style>\n",
       "<table border=\"1\" class=\"dataframe\">\n",
       "  <thead>\n",
       "    <tr style=\"text-align: right;\">\n",
       "      <th></th>\n",
       "      <th>color</th>\n",
       "      <th>director_name</th>\n",
       "      <th>duration</th>\n",
       "      <th>gross</th>\n",
       "      <th>genres</th>\n",
       "      <th>movie_title</th>\n",
       "      <th>title_year</th>\n",
       "      <th>language</th>\n",
       "      <th>country</th>\n",
       "      <th>budget</th>\n",
       "      <th>imdb_score</th>\n",
       "      <th>actors</th>\n",
       "      <th>movie_facebook_likes</th>\n",
       "    </tr>\n",
       "  </thead>\n",
       "  <tbody>\n",
       "    <tr>\n",
       "      <th>2</th>\n",
       "      <td>color</td>\n",
       "      <td>Quentin Tarantino</td>\n",
       "      <td>187</td>\n",
       "      <td>54116191.0</td>\n",
       "      <td>Crime|Drama|Mystery|Thriller|Western</td>\n",
       "      <td>The Hateful Eight</td>\n",
       "      <td>2015</td>\n",
       "      <td>English</td>\n",
       "      <td>USA</td>\n",
       "      <td>44000000.0</td>\n",
       "      <td>7.9</td>\n",
       "      <td>Craig Stark,Jennifer Jason Leigh,Zoë Bell</td>\n",
       "      <td>114000</td>\n",
       "    </tr>\n",
       "    <tr>\n",
       "      <th>41</th>\n",
       "      <td>Black and White</td>\n",
       "      <td>Steven Spielberg</td>\n",
       "      <td>146</td>\n",
       "      <td>79883359.0</td>\n",
       "      <td>Drama|War</td>\n",
       "      <td>War Horse</td>\n",
       "      <td>2011</td>\n",
       "      <td>English</td>\n",
       "      <td>usa</td>\n",
       "      <td>66000000.0</td>\n",
       "      <td>7.2</td>\n",
       "      <td>Jeremy Irvine,Benedict Cumberbatch,Eddie Marsan</td>\n",
       "      <td>28000</td>\n",
       "    </tr>\n",
       "  </tbody>\n",
       "</table>\n",
       "</div>"
      ],
      "text/plain": [
       "               color      director_name  duration       gross  \\\n",
       "2             color   Quentin Tarantino       187  54116191.0   \n",
       "41   Black and White   Steven Spielberg       146  79883359.0   \n",
       "\n",
       "                                  genres        movie_title  title_year  \\\n",
       "2   Crime|Drama|Mystery|Thriller|Western  The Hateful Eight        2015   \n",
       "41                             Drama|War          War Horse        2011   \n",
       "\n",
       "   language country      budget  imdb_score  \\\n",
       "2   English     USA  44000000.0         7.9   \n",
       "41  English     usa  66000000.0         7.2   \n",
       "\n",
       "                                             actors  movie_facebook_likes  \n",
       "2         Craig Stark,Jennifer Jason Leigh,Zoë Bell                114000  \n",
       "41  Jeremy Irvine,Benedict Cumberbatch,Eddie Marsan                 28000  "
      ]
     },
     "execution_count": 223,
     "metadata": {},
     "output_type": "execute_result"
    }
   ],
   "source": [
    "df[df[\"color\"]!=\"color\"]"
   ]
  },
  {
   "cell_type": "code",
   "execution_count": 224,
   "id": "8a5ef096-2af5-4c09-bd59-41ae9d188a5d",
   "metadata": {},
   "outputs": [],
   "source": [
    "#Mengubah nilai data yang tidak konsisten pada indeks 2"
   ]
  },
  {
   "cell_type": "code",
   "execution_count": 225,
   "id": "d04016d5-3468-46ab-aaae-64231aad8e1d",
   "metadata": {},
   "outputs": [
    {
     "name": "stdout",
     "output_type": "stream",
     "text": [
      "color\n",
      "color               88\n",
      " Black and White     1\n",
      "Name: count, dtype: int64\n"
     ]
    }
   ],
   "source": [
    "df.loc[2, \"color\"]=\"color\"\n",
    "print(df[\"color\"].value_counts())"
   ]
  },
  {
   "cell_type": "code",
   "execution_count": 226,
   "id": "ed3ff1ad-1409-4f32-8d68-13ced496cc9a",
   "metadata": {},
   "outputs": [],
   "source": [
    "df[\"gross\"] = df[\"gross\"].astype(\"int\")\n",
    "df[\"budget\"] = df[\"budget\"].astype(\"int\")"
   ]
  },
  {
   "cell_type": "code",
   "execution_count": 227,
   "id": "ee6fd713-ee15-4ddb-a4e1-62fbb754bab1",
   "metadata": {},
   "outputs": [],
   "source": [
    "#Menghapus nilai N/A dan nilai negatif"
   ]
  },
  {
   "cell_type": "code",
   "execution_count": 228,
   "id": "c5e234d4-2329-4c0a-b2ce-924702060d47",
   "metadata": {},
   "outputs": [],
   "source": [
    "df.dropna(subset=[\"director_name\"], axis=0, inplace=True)\n",
    "df.dropna(subset=[\"genres\"], axis=0, inplace=True)\n",
    "df.drop(df[df['duration'] < 0].index, inplace=True)\n",
    "df.drop(df[df['imdb_score'] < 0].index, inplace=True)"
   ]
  },
  {
   "cell_type": "code",
   "execution_count": 229,
   "id": "09bac238-e4af-4d2d-8601-3445bd403509",
   "metadata": {},
   "outputs": [
    {
     "name": "stdout",
     "output_type": "stream",
     "text": [
      "color                   0\n",
      "director_name           0\n",
      "duration                0\n",
      "gross                   0\n",
      "genres                  0\n",
      "movie_title             0\n",
      "title_year              0\n",
      "language                0\n",
      "country                 0\n",
      "budget                  0\n",
      "imdb_score              0\n",
      "actors                  0\n",
      "movie_facebook_likes    0\n",
      "dtype: int64\n"
     ]
    }
   ],
   "source": [
    "print(df.isnull().sum())"
   ]
  },
  {
   "cell_type": "code",
   "execution_count": 230,
   "id": "99c1384a-db23-43d0-8e1c-50a6db088729",
   "metadata": {},
   "outputs": [],
   "source": [
    "#Mengubah tipe data kolom gross dan budget menjadi integer"
   ]
  },
  {
   "cell_type": "code",
   "execution_count": 231,
   "id": "529bdfcc-2530-4df8-a9fb-3628bf306fae",
   "metadata": {},
   "outputs": [],
   "source": [
    "df[\"budget\"] = df[\"budget\"].astype(int, copy=True)\n",
    "df[\"gross\"] = df[\"gross\"].astype(int, copy=True)"
   ]
  },
  {
   "cell_type": "code",
   "execution_count": 232,
   "id": "186691bd-1232-4802-a134-6d0fb480eb6c",
   "metadata": {},
   "outputs": [
    {
     "data": {
      "text/plain": [
       "color                    object\n",
       "director_name            object\n",
       "duration                  int64\n",
       "gross                     int64\n",
       "genres                   object\n",
       "movie_title              object\n",
       "title_year                int64\n",
       "language                 object\n",
       "country                  object\n",
       "budget                    int64\n",
       "imdb_score              float64\n",
       "actors                   object\n",
       "movie_facebook_likes      int64\n",
       "dtype: object"
      ]
     },
     "execution_count": 232,
     "metadata": {},
     "output_type": "execute_result"
    }
   ],
   "source": [
    "df.dtypes"
   ]
  },
  {
   "cell_type": "code",
   "execution_count": 233,
   "id": "e71d9f22-efd6-4f5b-9db9-8ce15ed4e41b",
   "metadata": {},
   "outputs": [],
   "source": [
    "#Memisahkan genres"
   ]
  },
  {
   "cell_type": "code",
   "execution_count": 234,
   "id": "b23cce48-fc6f-42f6-b4a5-9f51a9559e31",
   "metadata": {},
   "outputs": [
    {
     "name": "stdout",
     "output_type": "stream",
     "text": [
      "            0          1         2         3        4\n",
      "0   Biography     Comedy     Crime     Drama     None\n",
      "1      Action  Adventure    Sci-Fi      None     None\n",
      "2       Crime      Drama   Mystery  Thriller  Western\n",
      "3       Drama       None      None      None     None\n",
      "4   Adventure    Fantasy      None      None     None\n",
      "..        ...        ...       ...       ...      ...\n",
      "84     Action  Adventure  Thriller      None     None\n",
      "85  Biography      Drama   History      None     None\n",
      "86  Biography      Drama  Thriller      None     None\n",
      "87     Action      Drama       War      None     None\n",
      "88  Biography      Drama     Music   Musical     None\n",
      "\n",
      "[73 rows x 5 columns]\n"
     ]
    }
   ],
   "source": [
    "df_genres_split = df['genres'].str.split('|', expand=True)\n",
    "\n",
    "# Menampilkan DataFrame\n",
    "print(df_genres_split)"
   ]
  },
  {
   "cell_type": "code",
   "execution_count": 235,
   "id": "50e35df3-addf-468e-bd41-3f79b3d9408f",
   "metadata": {},
   "outputs": [],
   "source": [
    "df[\"genres_1\"]=df_genres_split[0]\n",
    "df[\"genres_2\"]=df_genres_split[1]\n",
    "df[\"genres_3\"]=df_genres_split[2]\n",
    "df[\"genres_4\"]=df_genres_split[3]"
   ]
  },
  {
   "cell_type": "code",
   "execution_count": 236,
   "id": "fdd9cfc5-7c1d-4eac-8f24-a7c1ced9771c",
   "metadata": {},
   "outputs": [],
   "source": [
    "#Menghapus kolom genres lama\n",
    "df = df.drop(columns=[\"genres\"])"
   ]
  },
  {
   "cell_type": "code",
   "execution_count": 237,
   "id": "ce653d63-e969-4b72-8c63-9114ae11bd94",
   "metadata": {},
   "outputs": [],
   "source": [
    "#Mengambil daftar kolom\n",
    "cols = df.columns.tolist()\n",
    "cols.insert(4, cols.pop(cols.index('genres_1'))) \n",
    "cols.insert(5, cols.pop(cols.index('genres_2')))\n",
    "cols.insert(6, cols.pop(cols.index('genres_3'))) \n",
    "cols.insert(7, cols.pop(cols.index('genres_4'))) \n",
    "df = df[cols]"
   ]
  },
  {
   "cell_type": "code",
   "execution_count": 238,
   "id": "10cddc99-c51c-40e2-9e57-58b8a055f5db",
   "metadata": {},
   "outputs": [
    {
     "data": {
      "text/html": [
       "<div>\n",
       "<style scoped>\n",
       "    .dataframe tbody tr th:only-of-type {\n",
       "        vertical-align: middle;\n",
       "    }\n",
       "\n",
       "    .dataframe tbody tr th {\n",
       "        vertical-align: top;\n",
       "    }\n",
       "\n",
       "    .dataframe thead th {\n",
       "        text-align: right;\n",
       "    }\n",
       "</style>\n",
       "<table border=\"1\" class=\"dataframe\">\n",
       "  <thead>\n",
       "    <tr style=\"text-align: right;\">\n",
       "      <th></th>\n",
       "      <th>color</th>\n",
       "      <th>director_name</th>\n",
       "      <th>duration</th>\n",
       "      <th>gross</th>\n",
       "      <th>genres_1</th>\n",
       "      <th>genres_2</th>\n",
       "      <th>genres_3</th>\n",
       "      <th>genres_4</th>\n",
       "      <th>movie_title</th>\n",
       "      <th>title_year</th>\n",
       "      <th>language</th>\n",
       "      <th>country</th>\n",
       "      <th>budget</th>\n",
       "      <th>imdb_score</th>\n",
       "      <th>actors</th>\n",
       "      <th>movie_facebook_likes</th>\n",
       "    </tr>\n",
       "  </thead>\n",
       "  <tbody>\n",
       "    <tr>\n",
       "      <th>0</th>\n",
       "      <td>color</td>\n",
       "      <td>Martin Scorsese</td>\n",
       "      <td>240</td>\n",
       "      <td>116866727</td>\n",
       "      <td>Biography</td>\n",
       "      <td>Comedy</td>\n",
       "      <td>Crime</td>\n",
       "      <td>Drama</td>\n",
       "      <td>The Wolf of Wall Street</td>\n",
       "      <td>2013</td>\n",
       "      <td>English</td>\n",
       "      <td>USA</td>\n",
       "      <td>100000000</td>\n",
       "      <td>8.2</td>\n",
       "      <td>Leonardo DiCaprio,Matthew McConaughey,Jon Favreau</td>\n",
       "      <td>138000</td>\n",
       "    </tr>\n",
       "    <tr>\n",
       "      <th>1</th>\n",
       "      <td>color</td>\n",
       "      <td>Shane Black</td>\n",
       "      <td>195</td>\n",
       "      <td>408992272</td>\n",
       "      <td>Action</td>\n",
       "      <td>Adventure</td>\n",
       "      <td>Sci-Fi</td>\n",
       "      <td>None</td>\n",
       "      <td>Iron Man 3</td>\n",
       "      <td>2013</td>\n",
       "      <td>English</td>\n",
       "      <td>USA</td>\n",
       "      <td>200000000</td>\n",
       "      <td>7.2</td>\n",
       "      <td>Robert Downey Jr.,Jon Favreau,Don Cheadle</td>\n",
       "      <td>95000</td>\n",
       "    </tr>\n",
       "    <tr>\n",
       "      <th>2</th>\n",
       "      <td>color</td>\n",
       "      <td>Quentin Tarantino</td>\n",
       "      <td>187</td>\n",
       "      <td>54116191</td>\n",
       "      <td>Crime</td>\n",
       "      <td>Drama</td>\n",
       "      <td>Mystery</td>\n",
       "      <td>Thriller</td>\n",
       "      <td>The Hateful Eight</td>\n",
       "      <td>2015</td>\n",
       "      <td>English</td>\n",
       "      <td>USA</td>\n",
       "      <td>44000000</td>\n",
       "      <td>7.9</td>\n",
       "      <td>Craig Stark,Jennifer Jason Leigh,Zoë Bell</td>\n",
       "      <td>114000</td>\n",
       "    </tr>\n",
       "    <tr>\n",
       "      <th>3</th>\n",
       "      <td>color</td>\n",
       "      <td>Kenneth Lonergan</td>\n",
       "      <td>186</td>\n",
       "      <td>46495</td>\n",
       "      <td>Drama</td>\n",
       "      <td>None</td>\n",
       "      <td>None</td>\n",
       "      <td>None</td>\n",
       "      <td>Margaret</td>\n",
       "      <td>2011</td>\n",
       "      <td>English</td>\n",
       "      <td>usa</td>\n",
       "      <td>14000000</td>\n",
       "      <td>6.5</td>\n",
       "      <td>Matt Damon,Kieran Culkin,John Gallagher Jr.</td>\n",
       "      <td>0</td>\n",
       "    </tr>\n",
       "    <tr>\n",
       "      <th>4</th>\n",
       "      <td>color</td>\n",
       "      <td>Peter Jackson</td>\n",
       "      <td>186</td>\n",
       "      <td>258355354</td>\n",
       "      <td>Adventure</td>\n",
       "      <td>Fantasy</td>\n",
       "      <td>None</td>\n",
       "      <td>None</td>\n",
       "      <td>The Hobbit: The Desolation of Smaug</td>\n",
       "      <td>2013</td>\n",
       "      <td>English</td>\n",
       "      <td>USA</td>\n",
       "      <td>225000000</td>\n",
       "      <td>7.9</td>\n",
       "      <td>Aidan Turner,Adam Brown,James Nesbitt</td>\n",
       "      <td>83000</td>\n",
       "    </tr>\n",
       "  </tbody>\n",
       "</table>\n",
       "</div>"
      ],
      "text/plain": [
       "   color      director_name  duration      gross   genres_1   genres_2  \\\n",
       "0  color    Martin Scorsese       240  116866727  Biography     Comedy   \n",
       "1  color        Shane Black       195  408992272     Action  Adventure   \n",
       "2  color  Quentin Tarantino       187   54116191      Crime      Drama   \n",
       "3  color   Kenneth Lonergan       186      46495      Drama       None   \n",
       "4  color      Peter Jackson       186  258355354  Adventure    Fantasy   \n",
       "\n",
       "  genres_3  genres_4                          movie_title  title_year  \\\n",
       "0    Crime     Drama              The Wolf of Wall Street        2013   \n",
       "1   Sci-Fi      None                           Iron Man 3        2013   \n",
       "2  Mystery  Thriller                    The Hateful Eight        2015   \n",
       "3     None      None                             Margaret        2011   \n",
       "4     None      None  The Hobbit: The Desolation of Smaug        2013   \n",
       "\n",
       "  language country     budget  imdb_score  \\\n",
       "0  English     USA  100000000         8.2   \n",
       "1  English     USA  200000000         7.2   \n",
       "2  English     USA   44000000         7.9   \n",
       "3  English     usa   14000000         6.5   \n",
       "4  English     USA  225000000         7.9   \n",
       "\n",
       "                                              actors  movie_facebook_likes  \n",
       "0  Leonardo DiCaprio,Matthew McConaughey,Jon Favreau                138000  \n",
       "1          Robert Downey Jr.,Jon Favreau,Don Cheadle                 95000  \n",
       "2          Craig Stark,Jennifer Jason Leigh,Zoë Bell                114000  \n",
       "3        Matt Damon,Kieran Culkin,John Gallagher Jr.                     0  \n",
       "4              Aidan Turner,Adam Brown,James Nesbitt                 83000  "
      ]
     },
     "execution_count": 238,
     "metadata": {},
     "output_type": "execute_result"
    }
   ],
   "source": [
    "df.head()"
   ]
  },
  {
   "cell_type": "code",
   "execution_count": 239,
   "id": "4841b92f-6f3e-446c-8443-0854646aad16",
   "metadata": {},
   "outputs": [],
   "source": [
    "#Menyesuaikan kapital teks \n",
    "df[\"country\"]=df[\"country\"].str.upper()\n",
    "for i in range (4):\n",
    "    df[df.columns[i+4]]=df[df.columns[i+4]].str.lower()\n",
    "df[\"language\"]=df[\"language\"].str.lower()\n",
    "df[\"color\"]=df[\"color\"].str.lower()"
   ]
  },
  {
   "cell_type": "code",
   "execution_count": 240,
   "id": "2ee343c3-7398-43d4-8126-ad1527eea56d",
   "metadata": {},
   "outputs": [
    {
     "data": {
      "text/html": [
       "<div>\n",
       "<style scoped>\n",
       "    .dataframe tbody tr th:only-of-type {\n",
       "        vertical-align: middle;\n",
       "    }\n",
       "\n",
       "    .dataframe tbody tr th {\n",
       "        vertical-align: top;\n",
       "    }\n",
       "\n",
       "    .dataframe thead th {\n",
       "        text-align: right;\n",
       "    }\n",
       "</style>\n",
       "<table border=\"1\" class=\"dataframe\">\n",
       "  <thead>\n",
       "    <tr style=\"text-align: right;\">\n",
       "      <th></th>\n",
       "      <th>color</th>\n",
       "      <th>director_name</th>\n",
       "      <th>duration</th>\n",
       "      <th>gross</th>\n",
       "      <th>genres_1</th>\n",
       "      <th>genres_2</th>\n",
       "      <th>genres_3</th>\n",
       "      <th>genres_4</th>\n",
       "      <th>movie_title</th>\n",
       "      <th>title_year</th>\n",
       "      <th>language</th>\n",
       "      <th>country</th>\n",
       "      <th>budget</th>\n",
       "      <th>imdb_score</th>\n",
       "      <th>actors</th>\n",
       "      <th>movie_facebook_likes</th>\n",
       "    </tr>\n",
       "  </thead>\n",
       "  <tbody>\n",
       "    <tr>\n",
       "      <th>0</th>\n",
       "      <td>color</td>\n",
       "      <td>Martin Scorsese</td>\n",
       "      <td>240</td>\n",
       "      <td>116866727</td>\n",
       "      <td>biography</td>\n",
       "      <td>comedy</td>\n",
       "      <td>crime</td>\n",
       "      <td>drama</td>\n",
       "      <td>The Wolf of Wall Street</td>\n",
       "      <td>2013</td>\n",
       "      <td>english</td>\n",
       "      <td>USA</td>\n",
       "      <td>100000000</td>\n",
       "      <td>8.2</td>\n",
       "      <td>Leonardo DiCaprio,Matthew McConaughey,Jon Favreau</td>\n",
       "      <td>138000</td>\n",
       "    </tr>\n",
       "    <tr>\n",
       "      <th>1</th>\n",
       "      <td>color</td>\n",
       "      <td>Shane Black</td>\n",
       "      <td>195</td>\n",
       "      <td>408992272</td>\n",
       "      <td>action</td>\n",
       "      <td>adventure</td>\n",
       "      <td>sci-fi</td>\n",
       "      <td>None</td>\n",
       "      <td>Iron Man 3</td>\n",
       "      <td>2013</td>\n",
       "      <td>english</td>\n",
       "      <td>USA</td>\n",
       "      <td>200000000</td>\n",
       "      <td>7.2</td>\n",
       "      <td>Robert Downey Jr.,Jon Favreau,Don Cheadle</td>\n",
       "      <td>95000</td>\n",
       "    </tr>\n",
       "    <tr>\n",
       "      <th>2</th>\n",
       "      <td>color</td>\n",
       "      <td>Quentin Tarantino</td>\n",
       "      <td>187</td>\n",
       "      <td>54116191</td>\n",
       "      <td>crime</td>\n",
       "      <td>drama</td>\n",
       "      <td>mystery</td>\n",
       "      <td>thriller</td>\n",
       "      <td>The Hateful Eight</td>\n",
       "      <td>2015</td>\n",
       "      <td>english</td>\n",
       "      <td>USA</td>\n",
       "      <td>44000000</td>\n",
       "      <td>7.9</td>\n",
       "      <td>Craig Stark,Jennifer Jason Leigh,Zoë Bell</td>\n",
       "      <td>114000</td>\n",
       "    </tr>\n",
       "    <tr>\n",
       "      <th>3</th>\n",
       "      <td>color</td>\n",
       "      <td>Kenneth Lonergan</td>\n",
       "      <td>186</td>\n",
       "      <td>46495</td>\n",
       "      <td>drama</td>\n",
       "      <td>None</td>\n",
       "      <td>None</td>\n",
       "      <td>None</td>\n",
       "      <td>Margaret</td>\n",
       "      <td>2011</td>\n",
       "      <td>english</td>\n",
       "      <td>USA</td>\n",
       "      <td>14000000</td>\n",
       "      <td>6.5</td>\n",
       "      <td>Matt Damon,Kieran Culkin,John Gallagher Jr.</td>\n",
       "      <td>0</td>\n",
       "    </tr>\n",
       "    <tr>\n",
       "      <th>4</th>\n",
       "      <td>color</td>\n",
       "      <td>Peter Jackson</td>\n",
       "      <td>186</td>\n",
       "      <td>258355354</td>\n",
       "      <td>adventure</td>\n",
       "      <td>fantasy</td>\n",
       "      <td>None</td>\n",
       "      <td>None</td>\n",
       "      <td>The Hobbit: The Desolation of Smaug</td>\n",
       "      <td>2013</td>\n",
       "      <td>english</td>\n",
       "      <td>USA</td>\n",
       "      <td>225000000</td>\n",
       "      <td>7.9</td>\n",
       "      <td>Aidan Turner,Adam Brown,James Nesbitt</td>\n",
       "      <td>83000</td>\n",
       "    </tr>\n",
       "  </tbody>\n",
       "</table>\n",
       "</div>"
      ],
      "text/plain": [
       "   color      director_name  duration      gross   genres_1   genres_2  \\\n",
       "0  color    Martin Scorsese       240  116866727  biography     comedy   \n",
       "1  color        Shane Black       195  408992272     action  adventure   \n",
       "2  color  Quentin Tarantino       187   54116191      crime      drama   \n",
       "3  color   Kenneth Lonergan       186      46495      drama       None   \n",
       "4  color      Peter Jackson       186  258355354  adventure    fantasy   \n",
       "\n",
       "  genres_3  genres_4                          movie_title  title_year  \\\n",
       "0    crime     drama              The Wolf of Wall Street        2013   \n",
       "1   sci-fi      None                           Iron Man 3        2013   \n",
       "2  mystery  thriller                    The Hateful Eight        2015   \n",
       "3     None      None                             Margaret        2011   \n",
       "4     None      None  The Hobbit: The Desolation of Smaug        2013   \n",
       "\n",
       "  language country     budget  imdb_score  \\\n",
       "0  english     USA  100000000         8.2   \n",
       "1  english     USA  200000000         7.2   \n",
       "2  english     USA   44000000         7.9   \n",
       "3  english     USA   14000000         6.5   \n",
       "4  english     USA  225000000         7.9   \n",
       "\n",
       "                                              actors  movie_facebook_likes  \n",
       "0  Leonardo DiCaprio,Matthew McConaughey,Jon Favreau                138000  \n",
       "1          Robert Downey Jr.,Jon Favreau,Don Cheadle                 95000  \n",
       "2          Craig Stark,Jennifer Jason Leigh,Zoë Bell                114000  \n",
       "3        Matt Damon,Kieran Culkin,John Gallagher Jr.                     0  \n",
       "4              Aidan Turner,Adam Brown,James Nesbitt                 83000  "
      ]
     },
     "execution_count": 240,
     "metadata": {},
     "output_type": "execute_result"
    }
   ],
   "source": [
    "df.head()"
   ]
  },
  {
   "cell_type": "code",
   "execution_count": 241,
   "id": "8ba71182-f0c2-4bcb-b81f-a47a2b321973",
   "metadata": {},
   "outputs": [],
   "source": [
    "df.to_csv('movie_dataset_cleaned.csv', index=False)"
   ]
  },
  {
   "cell_type": "code",
   "execution_count": null,
   "id": "068555a5-5049-4e8c-95a9-6eb27f36c535",
   "metadata": {},
   "outputs": [],
   "source": []
  }
 ],
 "metadata": {
  "kernelspec": {
   "display_name": "Python 3 (ipykernel)",
   "language": "python",
   "name": "python3"
  },
  "language_info": {
   "codemirror_mode": {
    "name": "ipython",
    "version": 3
   },
   "file_extension": ".py",
   "mimetype": "text/x-python",
   "name": "python",
   "nbconvert_exporter": "python",
   "pygments_lexer": "ipython3",
   "version": "3.12.4"
  }
 },
 "nbformat": 4,
 "nbformat_minor": 5
}
